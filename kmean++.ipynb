{
 "cells": [
  {
   "cell_type": "code",
   "execution_count": 106,
   "metadata": {
    "collapsed": true
   },
   "outputs": [],
   "source": [
    "import numpy as np\n",
    "\n",
    "    "
   ]
  },
  {
   "cell_type": "code",
   "execution_count": 87,
   "metadata": {
    "collapsed": true
   },
   "outputs": [],
   "source": [
    "def minlen(x,c):\n",
    "    n=len(x)\n",
    "    c1=[[i]*n for i in c]\n",
    "    distance=((np.array(x)-np.array(c1))**2).T\n",
    "    minv=[min(distance[i]) for i in range(n)]\n",
    "    return(minv/sum(minv))\n",
    "    "
   ]
  },
  {
   "cell_type": "code",
   "execution_count": 128,
   "metadata": {
    "collapsed": true
   },
   "outputs": [],
   "source": [
    "def kmeanpinit(k,x):\n",
    "    C=np.random.choice(x,1).tolist()\n",
    "    i=0\n",
    "    if len(C)<k:\n",
    "        x.remove(C[i])\n",
    "        p=minlen(x,C)\n",
    "        index=np.random.multinomial(1,p).tolist().index(1)\n",
    "        C.append(x[index])\n",
    "        i=i+1\n",
    "    return C\n",
    "    \n",
    "    \n",
    "    "
   ]
  },
  {
   "cell_type": "code",
   "execution_count": null,
   "metadata": {
    "collapsed": true
   },
   "outputs": [],
   "source": []
  }
 ],
 "metadata": {
  "kernelspec": {
   "display_name": "Python 3",
   "language": "python",
   "name": "python3"
  },
  "language_info": {
   "codemirror_mode": {
    "name": "ipython",
    "version": 3
   },
   "file_extension": ".py",
   "mimetype": "text/x-python",
   "name": "python",
   "nbconvert_exporter": "python",
   "pygments_lexer": "ipython3",
   "version": "3.5.1"
  }
 },
 "nbformat": 4,
 "nbformat_minor": 0
}
